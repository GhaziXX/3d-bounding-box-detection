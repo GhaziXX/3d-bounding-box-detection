{
 "cells": [
  {
   "cell_type": "markdown",
   "id": "502ae03b",
   "metadata": {
    "heading_collapsed": true
   },
   "source": [
    "# Mount google drive"
   ]
  },
  {
   "cell_type": "markdown",
   "id": "9ba62651",
   "metadata": {
    "hidden": true
   },
   "source": [
    " **It is heighly recommended to use google colab and put the kitty dataset on your google drive**"
   ]
  },
  {
   "cell_type": "code",
   "execution_count": null,
   "id": "0c4a042b",
   "metadata": {
    "hidden": true
   },
   "outputs": [],
   "source": [
    "from google.colab import drive\n",
    "drive.mount('/content/gdrive')"
   ]
  },
  {
   "cell_type": "markdown",
   "id": "2e4153b3",
   "metadata": {
    "heading_collapsed": true
   },
   "source": [
    "# Install dependencies"
   ]
  },
  {
   "cell_type": "code",
   "execution_count": null,
   "id": "686b0ed0",
   "metadata": {
    "hidden": true
   },
   "outputs": [],
   "source": [
    "# Switch to tensorflow 1\n",
    "%tensorflow_version 1.x\n",
    "\n",
    "# Install protobuf\n",
    "!pip install protobuf protobuf-compiler\n",
    "\n",
    "# Clone the repo\n",
    "!git clone https://github.com/tensorflow/models.git\n",
    "\n",
    "# Compile protos.\n",
    "%cd models/research\n",
    "!protoc object_detection/protos/*.proto --python_out=.\n",
    "\n",
    "# Install TensorFlow Object Detection API.\n",
    "%cp object_detection/packages/tf1/setup.py .\n",
    "!python -m pip install .\n",
    "\n",
    "# Test the installation\n",
    "!python object_detection/builders/model_builder_tf1_test.py\n",
    "%cd ../.."
   ]
  },
  {
   "cell_type": "markdown",
   "id": "f85b275a",
   "metadata": {
    "heading_collapsed": true
   },
   "source": [
    "# Download Faster RCNN model"
   ]
  },
  {
   "cell_type": "code",
   "execution_count": null,
   "id": "e6720ab5",
   "metadata": {
    "hidden": true
   },
   "outputs": [],
   "source": [
    "%cd /content\n",
    "!wget http://download.tensorflow.org/models/object_detection/faster_rcnn_resnet101_kitti_2018_01_28.tar.gz\n",
    "!tar -xvf faster_rcnn_resnet101_kitti_2018_01_28.tar.gz"
   ]
  },
  {
   "cell_type": "markdown",
   "id": "7e9b6175",
   "metadata": {
    "heading_collapsed": true
   },
   "source": [
    "# Generate TF record for training"
   ]
  },
  {
   "cell_type": "code",
   "execution_count": null,
   "id": "b5d5e9d7",
   "metadata": {
    "hidden": true
   },
   "outputs": [],
   "source": [
    "# Make sure to fix the paths according to your setup.\n",
    "# Note that kitti_label_map.pbtxt has been included with this notebook\n",
    "!python /content/models/research/object_detection/dataset_tools/create_kitti_tf_record.py \\\n",
    "--data_dir=\"/content/gdrive/MyDrive/deep box/data\" \\\n",
    "--output_path=\"/content/gdrive/MyDrive/deep box/output/kitti.record\" \\\n",
    "--classes_to_use=car,pedestrian,truck,cyclist \\\n",
    "--label_map_path=\"/content/gdrive/MyDrive/deep box/kitti_label_map.pbtxt\" \\\n",
    "--validation_set_side=500"
   ]
  },
  {
   "cell_type": "markdown",
   "id": "c07b84b8",
   "metadata": {
    "heading_collapsed": true
   },
   "source": [
    "# Train the model"
   ]
  },
  {
   "cell_type": "code",
   "execution_count": null,
   "id": "31aa7c62",
   "metadata": {
    "hidden": true
   },
   "outputs": [],
   "source": [
    "%cp models/research/object_detection/legacy/train.py models/research/object_detection\n",
    "%cp /content/models/research/object_detection/legacy/eval.py /content/models/research/object_detection\n",
    "%cd /content\n",
    "\n",
    "# Make sure to fix the paths according to your setup.\n",
    "!python models/research/object_detection/train.py \\\n",
    "--logdir=\"/content/gdrive/MyDrive/deep box/log\" \\\n",
    "--train_dir=\"/content/gdrive/MyDrive/deep box/output_train2\" \\\n",
    "--pipeline_config_path=\"/content/gdrive/MyDrive/deep box/pipeline.config\""
   ]
  },
  {
   "cell_type": "markdown",
   "id": "a53ca3be",
   "metadata": {
    "heading_collapsed": true
   },
   "source": [
    "# Evaluate the model"
   ]
  },
  {
   "cell_type": "code",
   "execution_count": null,
   "id": "bffa3964",
   "metadata": {
    "hidden": true
   },
   "outputs": [],
   "source": [
    "%cd /content/models/research\n",
    "\n",
    "# Make sure to fix the paths according to your setup.\n",
    "!python object_detection/eval.py \\\n",
    "        --logtostderr \\\n",
    "        --checkpoint_dir=\"/content/gdrive/MyDrive/deep box/output_train2\" \\\n",
    "        --eval_dir=\"/content/gdrive/MyDrive/deep box/output_eval\" \\\n",
    "        --pipeline_config_path=\"/content/gdrive/MyDrive/deep box/output_train2/pipeline.config\""
   ]
  },
  {
   "cell_type": "markdown",
   "id": "36c9642c",
   "metadata": {
    "heading_collapsed": true
   },
   "source": [
    "# Export the model"
   ]
  },
  {
   "cell_type": "code",
   "execution_count": null,
   "id": "d200c57f",
   "metadata": {
    "hidden": true
   },
   "outputs": [],
   "source": [
    "%cd /content/models/research/\n",
    "# Make sure to fix the paths according to your setup.\n",
    "!python object_detection/export_inference_graph.py \\\n",
    "--input_type=image_tensor \\\n",
    "--pipeline_config_path=\"/content/gdrive/MyDrive/deep box/output_train1/pipeline.config\" \\\n",
    "--trained_checkpoint_prefix=\"/content/gdrive/MyDrive/deep box/output_train2/model.ckpt-25000\" \\\n",
    "--output_directory=\"/content/gdrive/MyDrive/deep box/frozen_model\""
   ]
  }
 ],
 "metadata": {
  "kernelspec": {
   "display_name": "Python 3 (ipykernel)",
   "language": "python",
   "name": "python3"
  },
  "language_info": {
   "codemirror_mode": {
    "name": "ipython",
    "version": 3
   },
   "file_extension": ".py",
   "mimetype": "text/x-python",
   "name": "python",
   "nbconvert_exporter": "python",
   "pygments_lexer": "ipython3",
   "version": "3.8.9"
  },
  "latex_envs": {
   "LaTeX_envs_menu_present": true,
   "autoclose": false,
   "autocomplete": true,
   "bibliofile": "biblio.bib",
   "cite_by": "apalike",
   "current_citInitial": 1,
   "eqLabelWithNumbers": true,
   "eqNumInitial": 1,
   "hotkeys": {
    "equation": "Ctrl-E",
    "itemize": "Ctrl-I"
   },
   "labels_anchors": false,
   "latex_user_defs": false,
   "report_style_numbering": false,
   "user_envs_cfg": false
  },
  "toc": {
   "base_numbering": 1,
   "nav_menu": {},
   "number_sections": true,
   "sideBar": true,
   "skip_h1_title": false,
   "title_cell": "Table of Contents",
   "title_sidebar": "Contents",
   "toc_cell": false,
   "toc_position": {},
   "toc_section_display": true,
   "toc_window_display": false
  }
 },
 "nbformat": 4,
 "nbformat_minor": 5
}
